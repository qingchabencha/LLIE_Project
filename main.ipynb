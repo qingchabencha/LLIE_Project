{
  "cells": [
    {
      "cell_type": "code",
      "execution_count": 2,
      "metadata": {
        "colab": {
          "base_uri": "https://localhost:8080/"
        },
        "id": "16mB2oIHoeuv",
        "outputId": "fcc3e2ef-550e-42c0-c422-3c26501ca1b8"
      },
      "outputs": [
        {
          "output_type": "stream",
          "name": "stdout",
          "text": [
            "Mounted at /content/gdrive\n",
            "/content/gdrive/My Drive/LLIE_Project\n",
            "/content/gdrive/My Drive/LLIE_Project\n"
          ]
        }
      ],
      "source": [
        "# For Google Colaboratory\n",
        "import sys, os\n",
        "\n",
        "if \"google.colab\" in sys.modules:\n",
        "    # mount google drive\n",
        "    from google.colab import drive\n",
        "\n",
        "    drive.mount(\"/content/gdrive\")\n",
        "    path_to_file = \"/content/gdrive/My Drive/LLIE_Project\"\n",
        "    print(path_to_file)\n",
        "\n",
        "    # change current path to the folder containing \"file_name\"\n",
        "    os.chdir(path_to_file)\n",
        "    !pwd"
      ]
    },
    {
      "cell_type": "code",
      "execution_count": 3,
      "metadata": {
        "id": "53FNpsPtohAs",
        "colab": {
          "base_uri": "https://localhost:8080/"
        },
        "outputId": "34d7f37d-c844-472e-bc2d-c0296a903fe0"
      },
      "outputs": [
        {
          "output_type": "stream",
          "name": "stdout",
          "text": [
            "Collecting torchmetrics\n",
            "  Downloading torchmetrics-1.7.1-py3-none-any.whl.metadata (21 kB)\n",
            "Requirement already satisfied: numpy>1.20.0 in /usr/local/lib/python3.11/dist-packages (from torchmetrics) (2.0.2)\n",
            "Requirement already satisfied: packaging>17.1 in /usr/local/lib/python3.11/dist-packages (from torchmetrics) (24.2)\n",
            "Requirement already satisfied: torch>=2.0.0 in /usr/local/lib/python3.11/dist-packages (from torchmetrics) (2.6.0+cu124)\n",
            "Collecting lightning-utilities>=0.8.0 (from torchmetrics)\n",
            "  Downloading lightning_utilities-0.14.3-py3-none-any.whl.metadata (5.6 kB)\n",
            "Requirement already satisfied: setuptools in /usr/local/lib/python3.11/dist-packages (from lightning-utilities>=0.8.0->torchmetrics) (75.2.0)\n",
            "Requirement already satisfied: typing_extensions in /usr/local/lib/python3.11/dist-packages (from lightning-utilities>=0.8.0->torchmetrics) (4.13.1)\n",
            "Requirement already satisfied: filelock in /usr/local/lib/python3.11/dist-packages (from torch>=2.0.0->torchmetrics) (3.18.0)\n",
            "Requirement already satisfied: networkx in /usr/local/lib/python3.11/dist-packages (from torch>=2.0.0->torchmetrics) (3.4.2)\n",
            "Requirement already satisfied: jinja2 in /usr/local/lib/python3.11/dist-packages (from torch>=2.0.0->torchmetrics) (3.1.6)\n",
            "Requirement already satisfied: fsspec in /usr/local/lib/python3.11/dist-packages (from torch>=2.0.0->torchmetrics) (2025.3.2)\n",
            "Collecting nvidia-cuda-nvrtc-cu12==12.4.127 (from torch>=2.0.0->torchmetrics)\n",
            "  Downloading nvidia_cuda_nvrtc_cu12-12.4.127-py3-none-manylinux2014_x86_64.whl.metadata (1.5 kB)\n",
            "Collecting nvidia-cuda-runtime-cu12==12.4.127 (from torch>=2.0.0->torchmetrics)\n",
            "  Downloading nvidia_cuda_runtime_cu12-12.4.127-py3-none-manylinux2014_x86_64.whl.metadata (1.5 kB)\n",
            "Collecting nvidia-cuda-cupti-cu12==12.4.127 (from torch>=2.0.0->torchmetrics)\n",
            "  Downloading nvidia_cuda_cupti_cu12-12.4.127-py3-none-manylinux2014_x86_64.whl.metadata (1.6 kB)\n",
            "Collecting nvidia-cudnn-cu12==9.1.0.70 (from torch>=2.0.0->torchmetrics)\n",
            "  Downloading nvidia_cudnn_cu12-9.1.0.70-py3-none-manylinux2014_x86_64.whl.metadata (1.6 kB)\n",
            "Collecting nvidia-cublas-cu12==12.4.5.8 (from torch>=2.0.0->torchmetrics)\n",
            "  Downloading nvidia_cublas_cu12-12.4.5.8-py3-none-manylinux2014_x86_64.whl.metadata (1.5 kB)\n",
            "Collecting nvidia-cufft-cu12==11.2.1.3 (from torch>=2.0.0->torchmetrics)\n",
            "  Downloading nvidia_cufft_cu12-11.2.1.3-py3-none-manylinux2014_x86_64.whl.metadata (1.5 kB)\n",
            "Collecting nvidia-curand-cu12==10.3.5.147 (from torch>=2.0.0->torchmetrics)\n",
            "  Downloading nvidia_curand_cu12-10.3.5.147-py3-none-manylinux2014_x86_64.whl.metadata (1.5 kB)\n",
            "Collecting nvidia-cusolver-cu12==11.6.1.9 (from torch>=2.0.0->torchmetrics)\n",
            "  Downloading nvidia_cusolver_cu12-11.6.1.9-py3-none-manylinux2014_x86_64.whl.metadata (1.6 kB)\n",
            "Collecting nvidia-cusparse-cu12==12.3.1.170 (from torch>=2.0.0->torchmetrics)\n",
            "  Downloading nvidia_cusparse_cu12-12.3.1.170-py3-none-manylinux2014_x86_64.whl.metadata (1.6 kB)\n",
            "Requirement already satisfied: nvidia-cusparselt-cu12==0.6.2 in /usr/local/lib/python3.11/dist-packages (from torch>=2.0.0->torchmetrics) (0.6.2)\n",
            "Requirement already satisfied: nvidia-nccl-cu12==2.21.5 in /usr/local/lib/python3.11/dist-packages (from torch>=2.0.0->torchmetrics) (2.21.5)\n",
            "Requirement already satisfied: nvidia-nvtx-cu12==12.4.127 in /usr/local/lib/python3.11/dist-packages (from torch>=2.0.0->torchmetrics) (12.4.127)\n",
            "Collecting nvidia-nvjitlink-cu12==12.4.127 (from torch>=2.0.0->torchmetrics)\n",
            "  Downloading nvidia_nvjitlink_cu12-12.4.127-py3-none-manylinux2014_x86_64.whl.metadata (1.5 kB)\n",
            "Requirement already satisfied: triton==3.2.0 in /usr/local/lib/python3.11/dist-packages (from torch>=2.0.0->torchmetrics) (3.2.0)\n",
            "Requirement already satisfied: sympy==1.13.1 in /usr/local/lib/python3.11/dist-packages (from torch>=2.0.0->torchmetrics) (1.13.1)\n",
            "Requirement already satisfied: mpmath<1.4,>=1.1.0 in /usr/local/lib/python3.11/dist-packages (from sympy==1.13.1->torch>=2.0.0->torchmetrics) (1.3.0)\n",
            "Requirement already satisfied: MarkupSafe>=2.0 in /usr/local/lib/python3.11/dist-packages (from jinja2->torch>=2.0.0->torchmetrics) (3.0.2)\n",
            "Downloading torchmetrics-1.7.1-py3-none-any.whl (961 kB)\n",
            "\u001b[2K   \u001b[90m━━━━━━━━━━━━━━━━━━━━━━━━━━━━━━━━━━━━━━━━\u001b[0m \u001b[32m961.5/961.5 kB\u001b[0m \u001b[31m36.0 MB/s\u001b[0m eta \u001b[36m0:00:00\u001b[0m\n",
            "\u001b[?25hDownloading lightning_utilities-0.14.3-py3-none-any.whl (28 kB)\n",
            "Downloading nvidia_cublas_cu12-12.4.5.8-py3-none-manylinux2014_x86_64.whl (363.4 MB)\n",
            "\u001b[2K   \u001b[90m━━━━━━━━━━━━━━━━━━━━━━━━━━━━━━━━━━━━━━━━\u001b[0m \u001b[32m363.4/363.4 MB\u001b[0m \u001b[31m4.6 MB/s\u001b[0m eta \u001b[36m0:00:00\u001b[0m\n",
            "\u001b[?25hDownloading nvidia_cuda_cupti_cu12-12.4.127-py3-none-manylinux2014_x86_64.whl (13.8 MB)\n",
            "\u001b[2K   \u001b[90m━━━━━━━━━━━━━━━━━━━━━━━━━━━━━━━━━━━━━━━━\u001b[0m \u001b[32m13.8/13.8 MB\u001b[0m \u001b[31m126.3 MB/s\u001b[0m eta \u001b[36m0:00:00\u001b[0m\n",
            "\u001b[?25hDownloading nvidia_cuda_nvrtc_cu12-12.4.127-py3-none-manylinux2014_x86_64.whl (24.6 MB)\n",
            "\u001b[2K   \u001b[90m━━━━━━━━━━━━━━━━━━━━━━━━━━━━━━━━━━━━━━━━\u001b[0m \u001b[32m24.6/24.6 MB\u001b[0m \u001b[31m96.2 MB/s\u001b[0m eta \u001b[36m0:00:00\u001b[0m\n",
            "\u001b[?25hDownloading nvidia_cuda_runtime_cu12-12.4.127-py3-none-manylinux2014_x86_64.whl (883 kB)\n",
            "\u001b[2K   \u001b[90m━━━━━━━━━━━━━━━━━━━━━━━━━━━━━━━━━━━━━━━━\u001b[0m \u001b[32m883.7/883.7 kB\u001b[0m \u001b[31m53.2 MB/s\u001b[0m eta \u001b[36m0:00:00\u001b[0m\n",
            "\u001b[?25hDownloading nvidia_cudnn_cu12-9.1.0.70-py3-none-manylinux2014_x86_64.whl (664.8 MB)\n",
            "\u001b[2K   \u001b[90m━━━━━━━━━━━━━━━━━━━━━━━━━━━━━━━━━━━━━━━━\u001b[0m \u001b[32m664.8/664.8 MB\u001b[0m \u001b[31m3.4 MB/s\u001b[0m eta \u001b[36m0:00:00\u001b[0m\n",
            "\u001b[?25hDownloading nvidia_cufft_cu12-11.2.1.3-py3-none-manylinux2014_x86_64.whl (211.5 MB)\n",
            "\u001b[2K   \u001b[90m━━━━━━━━━━━━━━━━━━━━━━━━━━━━━━━━━━━━━━━━\u001b[0m \u001b[32m211.5/211.5 MB\u001b[0m \u001b[31m5.3 MB/s\u001b[0m eta \u001b[36m0:00:00\u001b[0m\n",
            "\u001b[?25hDownloading nvidia_curand_cu12-10.3.5.147-py3-none-manylinux2014_x86_64.whl (56.3 MB)\n",
            "\u001b[2K   \u001b[90m━━━━━━━━━━━━━━━━━━━━━━━━━━━━━━━━━━━━━━━━\u001b[0m \u001b[32m56.3/56.3 MB\u001b[0m \u001b[31m14.0 MB/s\u001b[0m eta \u001b[36m0:00:00\u001b[0m\n",
            "\u001b[?25hDownloading nvidia_cusolver_cu12-11.6.1.9-py3-none-manylinux2014_x86_64.whl (127.9 MB)\n",
            "\u001b[2K   \u001b[90m━━━━━━━━━━━━━━━━━━━━━━━━━━━━━━━━━━━━━━━━\u001b[0m \u001b[32m127.9/127.9 MB\u001b[0m \u001b[31m7.5 MB/s\u001b[0m eta \u001b[36m0:00:00\u001b[0m\n",
            "\u001b[?25hDownloading nvidia_cusparse_cu12-12.3.1.170-py3-none-manylinux2014_x86_64.whl (207.5 MB)\n",
            "\u001b[2K   \u001b[90m━━━━━━━━━━━━━━━━━━━━━━━━━━━━━━━━━━━━━━━━\u001b[0m \u001b[32m207.5/207.5 MB\u001b[0m \u001b[31m5.5 MB/s\u001b[0m eta \u001b[36m0:00:00\u001b[0m\n",
            "\u001b[?25hDownloading nvidia_nvjitlink_cu12-12.4.127-py3-none-manylinux2014_x86_64.whl (21.1 MB)\n",
            "\u001b[2K   \u001b[90m━━━━━━━━━━━━━━━━━━━━━━━━━━━━━━━━━━━━━━━━\u001b[0m \u001b[32m21.1/21.1 MB\u001b[0m \u001b[31m72.9 MB/s\u001b[0m eta \u001b[36m0:00:00\u001b[0m\n",
            "\u001b[?25hInstalling collected packages: nvidia-nvjitlink-cu12, nvidia-curand-cu12, nvidia-cufft-cu12, nvidia-cuda-runtime-cu12, nvidia-cuda-nvrtc-cu12, nvidia-cuda-cupti-cu12, nvidia-cublas-cu12, lightning-utilities, nvidia-cusparse-cu12, nvidia-cudnn-cu12, nvidia-cusolver-cu12, torchmetrics\n",
            "  Attempting uninstall: nvidia-nvjitlink-cu12\n",
            "    Found existing installation: nvidia-nvjitlink-cu12 12.5.82\n",
            "    Uninstalling nvidia-nvjitlink-cu12-12.5.82:\n",
            "      Successfully uninstalled nvidia-nvjitlink-cu12-12.5.82\n",
            "  Attempting uninstall: nvidia-curand-cu12\n",
            "    Found existing installation: nvidia-curand-cu12 10.3.6.82\n",
            "    Uninstalling nvidia-curand-cu12-10.3.6.82:\n",
            "      Successfully uninstalled nvidia-curand-cu12-10.3.6.82\n",
            "  Attempting uninstall: nvidia-cufft-cu12\n",
            "    Found existing installation: nvidia-cufft-cu12 11.2.3.61\n",
            "    Uninstalling nvidia-cufft-cu12-11.2.3.61:\n",
            "      Successfully uninstalled nvidia-cufft-cu12-11.2.3.61\n",
            "  Attempting uninstall: nvidia-cuda-runtime-cu12\n",
            "    Found existing installation: nvidia-cuda-runtime-cu12 12.5.82\n",
            "    Uninstalling nvidia-cuda-runtime-cu12-12.5.82:\n",
            "      Successfully uninstalled nvidia-cuda-runtime-cu12-12.5.82\n",
            "  Attempting uninstall: nvidia-cuda-nvrtc-cu12\n",
            "    Found existing installation: nvidia-cuda-nvrtc-cu12 12.5.82\n",
            "    Uninstalling nvidia-cuda-nvrtc-cu12-12.5.82:\n",
            "      Successfully uninstalled nvidia-cuda-nvrtc-cu12-12.5.82\n",
            "  Attempting uninstall: nvidia-cuda-cupti-cu12\n",
            "    Found existing installation: nvidia-cuda-cupti-cu12 12.5.82\n",
            "    Uninstalling nvidia-cuda-cupti-cu12-12.5.82:\n",
            "      Successfully uninstalled nvidia-cuda-cupti-cu12-12.5.82\n",
            "  Attempting uninstall: nvidia-cublas-cu12\n",
            "    Found existing installation: nvidia-cublas-cu12 12.5.3.2\n",
            "    Uninstalling nvidia-cublas-cu12-12.5.3.2:\n",
            "      Successfully uninstalled nvidia-cublas-cu12-12.5.3.2\n",
            "  Attempting uninstall: nvidia-cusparse-cu12\n",
            "    Found existing installation: nvidia-cusparse-cu12 12.5.1.3\n",
            "    Uninstalling nvidia-cusparse-cu12-12.5.1.3:\n",
            "      Successfully uninstalled nvidia-cusparse-cu12-12.5.1.3\n",
            "  Attempting uninstall: nvidia-cudnn-cu12\n",
            "    Found existing installation: nvidia-cudnn-cu12 9.3.0.75\n",
            "    Uninstalling nvidia-cudnn-cu12-9.3.0.75:\n",
            "      Successfully uninstalled nvidia-cudnn-cu12-9.3.0.75\n",
            "  Attempting uninstall: nvidia-cusolver-cu12\n",
            "    Found existing installation: nvidia-cusolver-cu12 11.6.3.83\n",
            "    Uninstalling nvidia-cusolver-cu12-11.6.3.83:\n",
            "      Successfully uninstalled nvidia-cusolver-cu12-11.6.3.83\n",
            "Successfully installed lightning-utilities-0.14.3 nvidia-cublas-cu12-12.4.5.8 nvidia-cuda-cupti-cu12-12.4.127 nvidia-cuda-nvrtc-cu12-12.4.127 nvidia-cuda-runtime-cu12-12.4.127 nvidia-cudnn-cu12-9.1.0.70 nvidia-cufft-cu12-11.2.1.3 nvidia-curand-cu12-10.3.5.147 nvidia-cusolver-cu12-11.6.1.9 nvidia-cusparse-cu12-12.3.1.170 nvidia-nvjitlink-cu12-12.4.127 torchmetrics-1.7.1\n"
          ]
        }
      ],
      "source": [
        "%load_ext autoreload\n",
        "%autoreload 2\n",
        "\n",
        "import os\n",
        "import sys\n",
        "from pathlib import Path\n",
        "from tqdm import tqdm\n",
        "\n",
        "from PIL import Image\n",
        "from torch.utils.data import Dataset, DataLoader\n",
        "from torchvision import transforms\n",
        "from DatasetAndAugmentation.LowHighDataAugment import PairedTransforms\n",
        "from DatasetAndAugmentation.LowHightDataset import LOLPairedDataset\n",
        "import matplotlib.pyplot as plt\n",
        "from model.model import RELLIE\n",
        "\n",
        "try:\n",
        "    from torchmetrics import StructuralSimilarityIndexMeasure\n",
        "except:\n",
        "    !pip install torchmetrics\n",
        "    from torchmetrics import StructuralSimilarityIndexMeasure\n",
        "\n",
        "import torch\n",
        "import torch.nn as nn\n",
        "from torch.optim import AdamW, Adam, SGD"
      ]
    },
    {
      "cell_type": "code",
      "execution_count": 4,
      "metadata": {
        "colab": {
          "base_uri": "https://localhost:8080/"
        },
        "id": "Yexuz9D7ozns",
        "outputId": "85e513cb-2b63-49f6-9f27-9061534b31fa"
      },
      "outputs": [
        {
          "output_type": "stream",
          "name": "stdout",
          "text": [
            "cuda\n"
          ]
        }
      ],
      "source": [
        "device = torch.device(\"cuda\" if torch.cuda.is_available() else \"cpu\")\n",
        "print(device)"
      ]
    },
    {
      "cell_type": "markdown",
      "metadata": {
        "id": "Hxwf05LIoeuw"
      },
      "source": [
        "# Define the dir of the dataset"
      ]
    },
    {
      "cell_type": "code",
      "execution_count": 5,
      "metadata": {
        "id": "GV4zTT2foeuw"
      },
      "outputs": [],
      "source": [
        "# direction of the dataset\n",
        "dataset_dir = \"/path/to/dataset\"\n",
        "# directory of low-light images\n",
        "train_low_dir = \"./LOLdataset/train/low\"\n",
        "# directory of high-light images\n",
        "train_bright_dir = \"./LOLdataset/train/high\"\n",
        "\n",
        "# test\n",
        "test_low_dir = \"./LOLdataset/test/low\"\n",
        "test_bright_dir = \"./LOLdataset/test/high\""
      ]
    },
    {
      "cell_type": "markdown",
      "metadata": {
        "id": "IrqON-33oeuw"
      },
      "source": [
        "# create the train/test pic transformer, dataset and dataLoader"
      ]
    },
    {
      "cell_type": "code",
      "execution_count": 6,
      "metadata": {
        "id": "KebZVwMUoeux"
      },
      "outputs": [],
      "source": [
        "# create transform class to transform the image into tensor\n",
        "train_batch_size = 2\n",
        "train_transform = PairedTransforms(image_size=(400, 600), train=True)\n",
        "train_dataset = LOLPairedDataset(\n",
        "    train_low_dir, train_bright_dir, transform=train_transform, train=True\n",
        ")\n",
        "train_loader = DataLoader(train_dataset, batch_size=train_batch_size, shuffle=True)\n",
        "\n",
        "\n",
        "test_transform = PairedTransforms(image_size=(400, 600), train=False)\n",
        "test_dataset = LOLPairedDataset(\n",
        "    test_low_dir, test_bright_dir, transform=train_transform, train=False\n",
        ")\n",
        "test_loader = DataLoader(test_dataset, batch_size=1, shuffle=False)"
      ]
    },
    {
      "cell_type": "markdown",
      "metadata": {
        "id": "YbDki-NLoeux"
      },
      "source": [
        "# Initialize the model"
      ]
    },
    {
      "cell_type": "code",
      "execution_count": 7,
      "metadata": {
        "colab": {
          "base_uri": "https://localhost:8080/"
        },
        "id": "WBH352ACoeux",
        "outputId": "e6357d80-a4f8-466d-c825-492b5cfd0a0f"
      },
      "outputs": [
        {
          "output_type": "stream",
          "name": "stderr",
          "text": [
            "/usr/local/lib/python3.11/dist-packages/torchmetrics/utilities/prints.py:62: FutureWarning: Importing `StructuralSimilarityIndexMeasure` from `torchmetrics` was deprecated and will be removed in 2.0. Import `StructuralSimilarityIndexMeasure` from `torchmetrics.image` instead.\n",
            "  _future_warning(\n"
          ]
        }
      ],
      "source": [
        "model = RELLIE().to(device)\n",
        "lr = 0.001\n",
        "optimizer = Adam(model.parameters(), lr=lr)\n",
        "\n",
        "\n",
        "class SSIMLoss(nn.Module):\n",
        "    def __init__(self, window_size=11, reduction=\"elementwise_mean\"):\n",
        "        super().__init__()\n",
        "        self.ssim = StructuralSimilarityIndexMeasure(\n",
        "            data_range=1.0,  # For normalized images [0,1]\n",
        "            kernel_size=window_size,\n",
        "            reduction=reduction,\n",
        "        )\n",
        "\n",
        "    def forward(self, img1, img2):\n",
        "        \"\"\"\n",
        "        Compute SSIM loss between two images.\n",
        "\n",
        "        Args:\n",
        "            img1: Output from RetinexNet (range ~[-1,1] after MeanShift)\n",
        "            img2: Ground truth (range [0,1])\n",
        "\n",
        "        Returns:\n",
        "            loss: 1 - SSIM (higher is worse)\n",
        "        \"\"\"\n",
        "        # Normalize Retinex output to [0,1] if needed\n",
        "        if torch.min(img1) < 0:\n",
        "            img1 = (img1 + 1) / 2  # Convert [-1,1] to [0,1]\n",
        "\n",
        "        # Ensure both images are float32 and in [0,1]\n",
        "        img1 = img1.float().clamp(0, 1)\n",
        "        img2 = img2.float().clamp(0, 1)\n",
        "\n",
        "        return 1 - self.ssim(img1, img2)  # Lower is better\n",
        "\n",
        "\n",
        "mse_loss = nn.MSELoss()\n",
        "ssim_loss = SSIMLoss(window_size=11).to(device)"
      ]
    },
    {
      "cell_type": "code",
      "execution_count": 8,
      "metadata": {
        "colab": {
          "base_uri": "https://localhost:8080/"
        },
        "id": "aJWliG7l624a",
        "outputId": "59984dd0-69e9-4884-de03-cd0123c5a3e3"
      },
      "outputs": [
        {
          "output_type": "execute_result",
          "data": {
            "text/plain": [
              "8280064"
            ]
          },
          "metadata": {},
          "execution_count": 8
        }
      ],
      "source": [
        "torch.cuda.memory_allocated()"
      ]
    },
    {
      "cell_type": "markdown",
      "metadata": {
        "id": "GJdzucF1oeux"
      },
      "source": [
        "# Pipline of training Process"
      ]
    },
    {
      "cell_type": "code",
      "execution_count": 9,
      "metadata": {
        "id": "Mo32Ul8zoeuy"
      },
      "outputs": [],
      "source": [
        "def train_one_epoch(model, train_loader, optimizer, epoch=0):\n",
        "    running_total = 0\n",
        "    running_attn = 0\n",
        "    running_ref = 0\n",
        "    running_dec = 0\n",
        "    running_rest = 0\n",
        "    num_batches = 0\n",
        "    for batch in tqdm(train_loader):\n",
        "        input_low_light = batch[\"low\"].to(device)\n",
        "        target_high_light = batch[\"bright\"].to(device)\n",
        "        # forward\n",
        "        (\n",
        "            input_low_light_attn,\n",
        "            target_high_light_attn,\n",
        "            reflectance_low_light,\n",
        "            reflectance_high_light,\n",
        "            illumination_low_light,\n",
        "            illumination_high_light,\n",
        "            enhanced_illumination,\n",
        "            enhanced_reflectance,\n",
        "        ) = model(input_low_light, target_high_light, \"train\")\n",
        "\n",
        "        # calculate loss\n",
        "\n",
        "        ## sanity check\n",
        "        assert input_low_light_attn.shape == target_high_light_attn.shape\n",
        "        assert reflectance_low_light.shape == reflectance_high_light.shape\n",
        "        assert illumination_low_light.shape == illumination_high_light.shape\n",
        "        assert reflectance_high_light.shape == target_high_light.shape\n",
        "\n",
        "        print(input_low_light_attn.size(), target_high_light_attn.size())\n",
        "        print(target_high_light_attn)\n",
        "        attn_extraction_loss = mse_loss(input_low_light_attn, target_high_light_attn)\n",
        "        #print(attn_extraction_loss)\n",
        "        decomposition_loss = ssim_loss(\n",
        "            reflectance_high_light * illumination_high_light, target_high_light\n",
        "        ) + ssim_loss(reflectance_low_light * illumination_low_light, input_low_light)\n",
        "\n",
        "        #print(decomposition_loss)\n",
        "        reflectance_loss = ssim_loss(reflectance_low_light, reflectance_high_light)\n",
        "\n",
        "        # illumination_enhance_loss = ssim_loss(\n",
        "        #     enhanced_illumination, illumination_high_light\n",
        "        # )\n",
        "        # reflectance_enhance_loss = ssim_loss(\n",
        "        #     enhanced_reflectance, reflectance_high_light\n",
        "        # )\n",
        "        restoration_loss = ssim_loss(\n",
        "            enhanced_reflectance * enhanced_illumination, target_high_light\n",
        "        )\n",
        "\n",
        "        total_loss = (\n",
        "            100 * restoration_loss\n",
        "            + 10 * decomposition_loss\n",
        "             + 10 * reflectance_loss\n",
        "             + 5 * attn_extraction_loss\n",
        "            # + 10 * illumination_enhance_loss\n",
        "            # + 10 * reflectance_enhance_loss\n",
        "        )\n",
        "\n",
        "        running_attn += attn_extraction_loss.detach().item()\n",
        "        running_dec += decomposition_loss.detach().item()\n",
        "        running_ref += reflectance_loss.detach().item()\n",
        "        # running_enh_ill += illumination_enhance_loss.detach().item()\n",
        "        # running_enh_refl += reflectance_enhance_loss.detach().item()\n",
        "        running_rest += restoration_loss.detach().item()\n",
        "        running_total += total_loss.detach().item()\n",
        "\n",
        "        # backpropagation\n",
        "        optimizer.zero_grad()\n",
        "        total_loss.backward()\n",
        "        optimizer.step()\n",
        "\n",
        "        num_batches += 1\n",
        "\n",
        "    print(\n",
        "        f\"Epoch {epoch + 1}:\\t Total Loss = {running_total / num_batches}\\t restoration_loss = {running_rest / num_batches}\\t d_loss = {running_dec / num_batches}\\t r_loss = {running_ref / num_batches}\\t attn_loss = {running_attn / num_batches}\\t \"\n",
        "    )\n",
        "\n",
        "\n",
        "def evaluate(model, test_loader):\n",
        "    running_total = 0\n",
        "    num_batches = 0\n",
        "    with torch.no_grad():\n",
        "        for batch in test_loader:\n",
        "            input_low_light = batch[\"low\"].to(device)\n",
        "            target_high_light = batch[\"bright\"].to(device)\n",
        "\n",
        "            # forward\n",
        "            predict_high_light = model(input_low_light, None, \"eval\")\n",
        "\n",
        "            loss = ssim_loss(predict_high_light, target_high_light)\n",
        "            running_total += loss.item()\n",
        "            num_batches += 1\n",
        "\n",
        "    print(f\"Evaluation on test set: SSIM Loss = {running_total / num_batches}\")"
      ]
    },
    {
      "cell_type": "code",
      "execution_count": null,
      "metadata": {
        "id": "TBqtckZkoeuy",
        "colab": {
          "base_uri": "https://localhost:8080/"
        },
        "outputId": "74bfa140-a229-450c-b996-895766b29988"
      },
      "outputs": [
        {
          "output_type": "stream",
          "name": "stderr",
          "text": [
            "\r  0%|          | 0/243 [00:00<?, ?it/s]"
          ]
        }
      ],
      "source": [
        "model_dict_folder = \"./model_files_ADAM_2\"\n",
        "if not os.path.exists(model_dict_folder):\n",
        "    os.makedirs(model_dict_folder)\n",
        "\n",
        "starting_epoch = 0\n",
        "load_model = False\n",
        "\n",
        "if load_model:\n",
        "    model.load_state_dict(\n",
        "        torch.load(f\"epoch_{starting_epoch}_state.pt\"), weights_only=True\n",
        "    )\n",
        "\n",
        "for epoch in range(starting_epoch, 200):\n",
        "    if epoch % 20 == 1:\n",
        "        lr = lr / 2\n",
        "        optimizer = Adam(model.parameters(), lr=lr)\n",
        "\n",
        "    train_one_epoch(model, train_loader, optimizer, epoch)\n",
        "    torch.save(\n",
        "        model.state_dict(), os.path.join(model_dict_folder, f\"epoch_{epoch}_state.pt\")\n",
        "    )\n",
        "    evaluate(model, test_loader)"
      ]
    },
    {
      "cell_type": "markdown",
      "metadata": {
        "id": "hhDoIvMaoeuy"
      },
      "source": [
        "# Visualize the output of model"
      ]
    },
    {
      "cell_type": "code",
      "execution_count": null,
      "metadata": {
        "id": "2yzbPitOZtza"
      },
      "outputs": [],
      "source": [
        "load_model = False\n",
        "\n",
        "if load_model:\n",
        "    model.load_state_dict(\n",
        "        torch.load(\"./model_files/epoch_13_state.pt\", map_location=torch.device(\"cpu\"))\n",
        "    )"
      ]
    },
    {
      "cell_type": "code",
      "execution_count": null,
      "metadata": {
        "colab": {
          "base_uri": "https://localhost:8080/",
          "height": 575
        },
        "id": "1ZnD21Weoeuy",
        "outputId": "b0b01708-4872-4e9a-aaba-6671585b74e4"
      },
      "outputs": [
        {
          "data": {
            "image/png": "[encoded data removed]",
            "text/plain": [
              "<Figure size 300x900 with 15 Axes>"
            ]
          },
          "metadata": {},
          "output_type": "display_data"
        }
      ],
      "source": [
        "num_images_show = 5\n",
        "fig, axes = plt.subplots(3, num_images_show, figsize=(3 * train_batch_size, 9))\n",
        "for i in range(num_images_show):\n",
        "    batch = next(iter(test_loader))\n",
        "    input_low_light = batch[\"low\"].to(device)\n",
        "    # print(input_low_light)\n",
        "    target_high_light = batch[\"bright\"].squeeze(0).to(device)\n",
        "\n",
        "    # print(target_high_light)\n",
        "    with torch.no_grad():\n",
        "        predict_high_light = model(input_low_light, None, \"eval\").squeeze(0)\n",
        "\n",
        "    predict_high_light_PIL, target_high_light_PIL = train_transform.tensor2PIL(\n",
        "        predict_high_light, target_high_light\n",
        "    )\n",
        "    input_low_light_PIL, _ = train_transform.tensor2PIL(\n",
        "        input_low_light.squeeze(0), None\n",
        "    )\n",
        "\n",
        "    # 第1行: Picture input into the model\n",
        "    axes[0, i].imshow(input_low_light_PIL)\n",
        "    axes[0, i].set_title(f\"Input {i+1}\")\n",
        "    axes[0, i].axis(\"off\")\n",
        "\n",
        "    # 第2行: Picture output from the model, augmented by the model\n",
        "    axes[1, i].imshow(predict_high_light_PIL)\n",
        "    axes[1, i].set_title(f\"Predicted {i+1}\")\n",
        "    axes[1, i].axis(\"off\")\n",
        "\n",
        "    # 第3行：The target picture\n",
        "    axes[2, i].imshow(target_high_light_PIL)\n",
        "    axes[2, i].set_title(f\"Target {i+1}\")\n",
        "    axes[2, i].axis(\"off\")\n",
        "plt.show()"
      ]
    },
    {
      "cell_type": "code",
      "execution_count": null,
      "metadata": {
        "id": "sxkf1v8yxRgU"
      },
      "outputs": [],
      "source": []
    }
  ],
  "metadata": {
    "accelerator": "GPU",
    "colab": {
      "gpuType": "T4",
      "provenance": []
    },
    "kernelspec": {
      "display_name": "base",
      "language": "python",
      "name": "python3"
    },
    "language_info": {
      "codemirror_mode": {
        "name": "ipython",
        "version": 3
      },
      "file_extension": ".py",
      "mimetype": "text/x-python",
      "name": "python",
      "nbconvert_exporter": "python",
      "pygments_lexer": "ipython3",
      "version": "3.10.9"
    }
  },
  "nbformat": 4,
  "nbformat_minor": 0
}